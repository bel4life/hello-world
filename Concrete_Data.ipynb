{
  "nbformat": 4,
  "nbformat_minor": 0,
  "metadata": {
    "colab": {
      "name": "Concrete Data.ipynb",
      "version": "0.3.2",
      "provenance": [],
      "include_colab_link": true
    },
    "kernelspec": {
      "name": "python3",
      "display_name": "Python 3"
    }
  },
  "cells": [
    {
      "cell_type": "markdown",
      "metadata": {
        "id": "view-in-github",
        "colab_type": "text"
      },
      "source": [
        "<a href=\"https://colab.research.google.com/github/bel4life/hello-world/blob/master/Concrete_Data.ipynb\" target=\"_parent\"><img src=\"https://colab.research.google.com/assets/colab-badge.svg\" alt=\"Open In Colab\"/></a>"
      ]
    },
    {
      "cell_type": "markdown",
      "metadata": {
        "id": "kwXLrwnLaYHx",
        "colab_type": "text"
      },
      "source": [
        "**Concrete Data Project**"
      ]
    },
    {
      "cell_type": "code",
      "metadata": {
        "id": "thReYJWHafmm",
        "colab_type": "code",
        "colab": {}
      },
      "source": [
        "import pandas as pd\n"
      ],
      "execution_count": 0,
      "outputs": []
    },
    {
      "cell_type": "code",
      "metadata": {
        "id": "Z42VVIX8vc7k",
        "colab_type": "code",
        "colab": {}
      },
      "source": [
        "HDNames=['Cement']"
      ],
      "execution_count": 0,
      "outputs": []
    }
  ]
}