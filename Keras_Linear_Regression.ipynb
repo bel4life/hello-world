{
  "nbformat": 4,
  "nbformat_minor": 0,
  "metadata": {
    "colab": {
      "name": "Keras Linear Regression.ipynb",
      "version": "0.3.2",
      "provenance": [],
      "include_colab_link": true
    },
    "kernelspec": {
      "name": "python3",
      "display_name": "Python 3"
    }
  },
  "cells": [
    {
      "cell_type": "markdown",
      "metadata": {
        "id": "view-in-github",
        "colab_type": "text"
      },
      "source": [
        "<a href=\"https://colab.research.google.com/github/bel4life/hello-world/blob/master/Keras_Linear_Regression.ipynb\" target=\"_parent\"><img src=\"https://colab.research.google.com/assets/colab-badge.svg\" alt=\"Open In Colab\"/></a>"
      ]
    },
    {
      "cell_type": "code",
      "metadata": {
        "id": "FKKMXh1Tfr94",
        "colab_type": "code",
        "colab": {}
      },
      "source": [
        "\n"
      ],
      "execution_count": 0,
      "outputs": []
    },
    {
      "cell_type": "markdown",
      "metadata": {
        "id": "aD8XxseurF68",
        "colab_type": "text"
      },
      "source": [
        "**Neural Networks For Regression Using KERAS**"
      ]
    },
    {
      "cell_type": "markdown",
      "metadata": {
        "id": "rHwAPr9CoXjN",
        "colab_type": "text"
      },
      "source": [
        "**1. Reading Data**"
      ]
    },
    {
      "cell_type": "code",
      "metadata": {
        "id": "TmtMkLe6oIcc",
        "colab_type": "code",
        "colab": {}
      },
      "source": [
        "import pandas as pd\n"
      ],
      "execution_count": 0,
      "outputs": []
    },
    {
      "cell_type": "code",
      "metadata": {
        "id": "2_rD3FVqo1Qj",
        "colab_type": "code",
        "colab": {}
      },
      "source": [
        "BHNames=['crim','zn','indus','chas','nox','rn','age','dis','rad','tax','ptratio','black','lstat','medv']"
      ],
      "execution_count": 0,
      "outputs": []
    },
    {
      "cell_type": "code",
      "metadata": {
        "id": "zurZx7qfpyY_",
        "colab_type": "code",
        "colab": {}
      },
      "source": [
        "url = 'https://archive.ics.uci.edu/ml/machine-learning-databases/housing/housing.data'"
      ],
      "execution_count": 0,
      "outputs": []
    },
    {
      "cell_type": "code",
      "metadata": {
        "id": "awmE3b-tqHVi",
        "colab_type": "code",
        "colab": {}
      },
      "source": [
        "data =pd.read_csv(url, delim_whitespace=True, names=BHNames)"
      ],
      "execution_count": 0,
      "outputs": []
    },
    {
      "cell_type": "markdown",
      "metadata": {
        "id": "iAw7KKlsq1cH",
        "colab_type": "text"
      },
      "source": [
        "**2. Exploratory Analysis**"
      ]
    },
    {
      "cell_type": "code",
      "metadata": {
        "id": "9Umpdi-6q9Ua",
        "colab_type": "code",
        "colab": {}
      },
      "source": [
        ""
      ],
      "execution_count": 0,
      "outputs": []
    }
  ]
}